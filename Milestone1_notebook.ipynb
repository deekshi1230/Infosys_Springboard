{
  "nbformat": 4,
  "nbformat_minor": 0,
  "metadata": {
    "colab": {
      "provenance": []
    },
    "kernelspec": {
      "name": "python3",
      "display_name": "Python 3"
    },
    "language_info": {
      "name": "python"
    }
  },
  "cells": [
    {
      "cell_type": "code",
      "execution_count": 11,
      "metadata": {
        "id": "JuqqH1wmKrYg"
      },
      "outputs": [],
      "source": [
        "snippets = [\n",
        "    \"\"\"def add(a, b): return a + b\"\"\",\n",
        "    \"\"\"class Person: ...\"\"\",\n",
        "    # ... total 10 snippets\n",
        "]\n",
        "\n"
      ]
    },
    {
      "cell_type": "code",
      "source": [
        "from sentence_transformers import SentenceTransformer\n",
        "\n",
        "model_names = {\n",
        "    \"MiniLM\": \"all-MiniLM-L6-v2\",\n",
        "    \"DistilRoBERTa\": \"all-distilroberta-v1\",\n",
        "    \"MPNet\": \"all-mpnet-base-v2\"\n",
        "}\n",
        "\n",
        "# Load models\n",
        "models = {name: SentenceTransformer(path) for name, path in model_names.items()}\n",
        "\n",
        "# Compute embeddings per snippet\n",
        "embeddings_per_snippet = {name: [] for name in model_names}\n",
        "\n",
        "for name, model in models.items():\n",
        "    for snippet in snippets:\n",
        "        emb = model.encode(snippet)\n",
        "        embeddings_per_snippet[name].append(emb)\n",
        "\n"
      ],
      "metadata": {
        "id": "CEh3t06NMIpQ"
      },
      "execution_count": 12,
      "outputs": []
    },
    {
      "cell_type": "code",
      "source": [
        "import numpy as np\n",
        "\n",
        "# Find min dimension across all embeddings\n",
        "min_dim = min(emb.shape[0] for name in embeddings_per_snippet for emb in embeddings_per_snippet[name])\n",
        "\n",
        "# Truncate embeddings to min_dim\n",
        "for name in embeddings_per_snippet:\n",
        "    embeddings_per_snippet[name] = [emb[:min_dim] for emb in embeddings_per_snippet[name]]\n",
        "\n"
      ],
      "metadata": {
        "id": "ZGPKN4tdMMY1"
      },
      "execution_count": 13,
      "outputs": []
    },
    {
      "cell_type": "code",
      "source": [
        "from sklearn.metrics.pairwise import cosine_similarity\n",
        "\n",
        "for i in range(len(snippets)):\n",
        "    print(f\"\\nSnippet {i+1}:\")\n",
        "    for m1 in model_names:\n",
        "        for m2 in model_names:\n",
        "            emb1 = embeddings_per_snippet[m1][i].reshape(1, -1)\n",
        "            emb2 = embeddings_per_snippet[m2][i].reshape(1, -1)\n",
        "            sim = cosine_similarity(emb1, emb2)[0][0]\n",
        "            print(f\"{m1} vs {m2}: {sim:.4f}\")\n",
        "\n"
      ],
      "metadata": {
        "colab": {
          "base_uri": "https://localhost:8080/"
        },
        "id": "IpHuoYPQMPxj",
        "outputId": "824301fe-18c6-49c2-f940-1989358e62a0"
      },
      "execution_count": 14,
      "outputs": [
        {
          "output_type": "stream",
          "name": "stdout",
          "text": [
            "\n",
            "Snippet 1:\n",
            "MiniLM vs MiniLM: 1.0000\n",
            "MiniLM vs DistilRoBERTa: -0.0542\n",
            "MiniLM vs MPNet: 0.0010\n",
            "DistilRoBERTa vs MiniLM: -0.0542\n",
            "DistilRoBERTa vs DistilRoBERTa: 1.0000\n",
            "DistilRoBERTa vs MPNet: 0.1018\n",
            "MPNet vs MiniLM: 0.0010\n",
            "MPNet vs DistilRoBERTa: 0.1018\n",
            "MPNet vs MPNet: 1.0000\n",
            "\n",
            "Snippet 2:\n",
            "MiniLM vs MiniLM: 1.0000\n",
            "MiniLM vs DistilRoBERTa: 0.0230\n",
            "MiniLM vs MPNet: -0.0001\n",
            "DistilRoBERTa vs MiniLM: 0.0230\n",
            "DistilRoBERTa vs DistilRoBERTa: 1.0000\n",
            "DistilRoBERTa vs MPNet: -0.0104\n",
            "MPNet vs MiniLM: -0.0001\n",
            "MPNet vs DistilRoBERTa: -0.0104\n",
            "MPNet vs MPNet: 1.0000\n"
          ]
        }
      ]
    },
    {
      "cell_type": "code",
      "source": [
        "import pandas as pd\n",
        "\n",
        "rows = []\n",
        "for i in range(len(snippets)):\n",
        "    for m1 in model_names:\n",
        "        for m2 in model_names:\n",
        "            rows.append({\n",
        "                \"Snippet\": i+1,\n",
        "                \"Model1\": m1,\n",
        "                \"Model2\": m2,\n",
        "                \"Cosine_Similarity\": cosine_similarity(\n",
        "                    embeddings_per_snippet[m1][i].reshape(1, -1),\n",
        "                    embeddings_per_snippet[m2][i].reshape(1, -1)\n",
        "                )[0][0]\n",
        "            })\n",
        "\n",
        "df = pd.DataFrame(rows)\n",
        "df.to_csv(\"snippet_similarity_per_snippet.csv\", index=False)\n",
        "\n"
      ],
      "metadata": {
        "id": "L_Rv9xz3N3wL"
      },
      "execution_count": 16,
      "outputs": []
    }
  ]
}